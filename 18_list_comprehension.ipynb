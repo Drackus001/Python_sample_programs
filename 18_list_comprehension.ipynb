{
 "cells": [
  {
   "cell_type": "code",
   "execution_count": 1,
   "metadata": {},
   "outputs": [],
   "source": [
    "# list_comprehension\n",
    "# List of squares\n",
    "\n",
    "squares = [i**2 for i in range(16)]"
   ]
  },
  {
   "cell_type": "code",
   "execution_count": 2,
   "metadata": {},
   "outputs": [
    {
     "data": {
      "text/plain": [
       "[0, 1, 4, 9, 16, 25, 36, 49, 64, 81, 100, 121, 144, 169, 196, 225]"
      ]
     },
     "execution_count": 2,
     "metadata": {},
     "output_type": "execute_result"
    }
   ],
   "source": [
    "squares"
   ]
  },
  {
   "cell_type": "code",
   "execution_count": 3,
   "metadata": {},
   "outputs": [],
   "source": [
    "# List of remainders when divide squares of element with 5.\n",
    "remainders = [x**2 % 5 for x in range(16)]"
   ]
  },
  {
   "cell_type": "code",
   "execution_count": 4,
   "metadata": {},
   "outputs": [
    {
     "data": {
      "text/plain": [
       "[0, 1, 4, 4, 1, 0, 1, 4, 4, 1, 0, 1, 4, 4, 1, 0]"
      ]
     },
     "execution_count": 4,
     "metadata": {},
     "output_type": "execute_result"
    }
   ],
   "source": [
    "remainders"
   ]
  },
  {
   "cell_type": "code",
   "execution_count": 7,
   "metadata": {},
   "outputs": [
    {
     "name": "stdout",
     "output_type": "stream",
     "text": [
      "['ABC', 'XYZ', 'Rick', 'damm']\n"
     ]
    }
   ],
   "source": [
    "# List comprehension(If clause) : The list which has length of minimum 4.\n",
    "mylist = [\"Hello world\",\"Satyam\", \"ABC\",\"XYZ\",\"Shiam\",\"Rick\",\"Daryl\",\"damm\"]\n",
    "comprehension_list = [x for x in mylist if len(x) < 5]\n",
    "print(comprehension_list)"
   ]
  },
  {
   "cell_type": "code",
   "execution_count": 9,
   "metadata": {},
   "outputs": [
    {
     "data": {
      "text/plain": [
       "[(1, 'x'),\n",
       " (1, 'y'),\n",
       " (1, 'z'),\n",
       " (2, 'x'),\n",
       " (2, 'y'),\n",
       " (2, 'z'),\n",
       " (3, 'x'),\n",
       " (3, 'y'),\n",
       " (3, 'z')]"
      ]
     },
     "execution_count": 9,
     "metadata": {},
     "output_type": "execute_result"
    }
   ],
   "source": [
    "# cartesian product\n",
    "A = [1, 2, 3]\n",
    "B = ['x', 'y', 'z']\n",
    "\n",
    "cartesian_product = [(a,b) for a in A for b in B]\n",
    "cartesian_product\n",
    " "
   ]
  },
  {
   "cell_type": "code",
   "execution_count": null,
   "metadata": {},
   "outputs": [],
   "source": []
  }
 ],
 "metadata": {
  "kernelspec": {
   "display_name": "Python 3",
   "language": "python",
   "name": "python3"
  },
  "language_info": {
   "codemirror_mode": {
    "name": "ipython",
    "version": 3
   },
   "file_extension": ".py",
   "mimetype": "text/x-python",
   "name": "python",
   "nbconvert_exporter": "python",
   "pygments_lexer": "ipython3",
   "version": "3.7.3"
  }
 },
 "nbformat": 4,
 "nbformat_minor": 2
}
