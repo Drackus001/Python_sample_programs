{
 "cells": [
  {
   "cell_type": "code",
   "execution_count": 1,
   "metadata": {},
   "outputs": [],
   "source": [
    "# Logging\n",
    "\n",
    "# purpose: Record progress and problems\n",
    "# Levels: Debug, Info, Warning, Error, Critical\n",
    "\n",
    "import logging"
   ]
  },
  {
   "cell_type": "code",
   "execution_count": 3,
   "metadata": {},
   "outputs": [
    {
     "name": "stdout",
     "output_type": "stream",
     "text": [
      "['BASIC_FORMAT', 'BufferingFormatter', 'CRITICAL', 'DEBUG', 'ERROR', 'FATAL', 'FileHandler', 'Filter', 'Filterer', 'Formatter', 'Handler', 'INFO', 'LogRecord', 'Logger', 'LoggerAdapter', 'Manager', 'NOTSET', 'NullHandler', 'PercentStyle', 'PlaceHolder', 'RootLogger', 'StrFormatStyle', 'StreamHandler', 'StringTemplateStyle', 'Template', 'WARN', 'WARNING', '_STYLES', '_StderrHandler', '__all__', '__author__', '__builtins__', '__cached__', '__date__', '__doc__', '__file__', '__loader__', '__name__', '__package__', '__path__', '__spec__', '__status__', '__version__', '_acquireLock', '_addHandlerRef', '_after_at_fork_weak_calls', '_at_fork_acquire_release_weakset', '_at_fork_weak_calls', '_before_at_fork_weak_calls', '_checkLevel', '_defaultFormatter', '_defaultLastResort', '_handlerList', '_handlers', '_levelToName', '_lock', '_logRecordFactory', '_loggerClass', '_nameToLevel', '_register_at_fork_acquire_release', '_releaseLock', '_removeHandlerRef', '_showwarning', '_srcfile', '_startTime', '_warnings_showwarning', 'addLevelName', 'atexit', 'basicConfig', 'captureWarnings', 'collections', 'critical', 'currentframe', 'debug', 'disable', 'error', 'exception', 'fatal', 'getLevelName', 'getLogRecordFactory', 'getLogger', 'getLoggerClass', 'handlers', 'info', 'io', 'lastResort', 'log', 'logMultiprocessing', 'logProcesses', 'logThreads', 'makeLogRecord', 'os', 'raiseExceptions', 'root', 'setLogRecordFactory', 'setLoggerClass', 'shutdown', 'sys', 'threading', 'time', 'traceback', 'warn', 'warning', 'warnings', 'weakref']\n"
     ]
    }
   ],
   "source": [
    "print(dir(logging))"
   ]
  },
  {
   "cell_type": "code",
   "execution_count": 25,
   "metadata": {},
   "outputs": [
    {
     "name": "stdout",
     "output_type": "stream",
     "text": [
      "30\n"
     ]
    }
   ],
   "source": [
    "# create and configure logging\n",
    "import logging\n",
    "LOG_FORMAT = \"%(Levelname)s %(asctime)s - %(message)s\"\n",
    "logging.basicConfig(filename = \"mylogging.Log\", \n",
    "                    level = logging.ERROR,\n",
    "                   format = LOG_FORMAT,\n",
    "                   filemode = 'w' )\n",
    "logger = logging.getLogger()\n",
    "\n",
    "# Test the logger\n",
    "logger.debug(\"This is debug text\")\n",
    "logger.info(\"This is info text\")\n",
    "logger.warning(\"This is warning text\")\n",
    "logger.error(\"This is error text\")\n",
    "logger.critical(\"This is critical text\")\n",
    "\n",
    "\n",
    "print(logger.level)\n",
    "\n",
    "\n",
    "# Level - Numeric Value\n",
    "# NOTSET - 0\n",
    "# DEBUG - 10\n",
    "# INFO - 20\n",
    "# WARNING - 30\n",
    "# ERROR - 40\n",
    "# CRITICAL - 50"
   ]
  },
  {
   "cell_type": "code",
   "execution_count": null,
   "metadata": {},
   "outputs": [],
   "source": []
  }
 ],
 "metadata": {
  "kernelspec": {
   "display_name": "Python 3",
   "language": "python",
   "name": "python3"
  },
  "language_info": {
   "codemirror_mode": {
    "name": "ipython",
    "version": 3
   },
   "file_extension": ".py",
   "mimetype": "text/x-python",
   "name": "python",
   "nbconvert_exporter": "python",
   "pygments_lexer": "ipython3",
   "version": "3.7.3"
  }
 },
 "nbformat": 4,
 "nbformat_minor": 2
}
