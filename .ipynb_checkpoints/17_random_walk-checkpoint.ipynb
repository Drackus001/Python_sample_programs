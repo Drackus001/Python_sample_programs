{
 "cells": [
  {
   "cell_type": "code",
   "execution_count": 1,
   "metadata": {},
   "outputs": [],
   "source": [
    "# A random walk by monte carlo problem\n",
    "\n",
    "import random"
   ]
  },
  {
   "cell_type": "code",
   "execution_count": 2,
   "metadata": {},
   "outputs": [],
   "source": [
    "def random_walk(n):\n",
    "    \"\"\"Return coordinations after 'n' random block walk. \"\"\"\n",
    "    x, y = 0 , 0\n",
    "    for i in range(n):\n",
    "        step = random.choice(['E', 'W', 'N', 'S'])\n",
    "        if step == 'N':\n",
    "            y += 1\n",
    "        elif step == 'S':\n",
    "            y -= 1\n",
    "        elif step == 'E':\n",
    "            x += 1\n",
    "        else:\n",
    "            x -= 1\n",
    "    \n",
    "    return(x,y)     "
   ]
  },
  {
   "cell_type": "code",
   "execution_count": 3,
   "metadata": {},
   "outputs": [
    {
     "name": "stdout",
     "output_type": "stream",
     "text": [
      "(2, -2)  Distance from home =  4\n",
      "(5, -1)  Distance from home =  6\n",
      "(1, -1)  Distance from home =  2\n",
      "(-5, -1)  Distance from home =  6\n",
      "(1, -1)  Distance from home =  2\n",
      "(-2, 2)  Distance from home =  4\n",
      "(-3, -1)  Distance from home =  4\n",
      "(1, -1)  Distance from home =  2\n",
      "(5, -1)  Distance from home =  6\n",
      "(2, 0)  Distance from home =  2\n",
      "(1, -1)  Distance from home =  2\n",
      "(0, 0)  Distance from home =  0\n",
      "(-1, 3)  Distance from home =  4\n",
      "(-2, 0)  Distance from home =  2\n",
      "(-3, 1)  Distance from home =  4\n",
      "(-1, 3)  Distance from home =  4\n",
      "(-1, -1)  Distance from home =  2\n",
      "(1, -1)  Distance from home =  2\n",
      "(1, 3)  Distance from home =  4\n",
      "(0, 0)  Distance from home =  0\n"
     ]
    }
   ],
   "source": [
    "# 20 iteration\n",
    "for i in range(20):\n",
    "    walk = random_walk(10)\n",
    "    print(walk,\" Distance from home = \",\n",
    "         abs(walk[0]) + abs(walk[1]))"
   ]
  },
  {
   "cell_type": "code",
   "execution_count": 5,
   "metadata": {},
   "outputs": [],
   "source": [
    "# random_walk2\n",
    "def random_walk2(n):\n",
    "    \"\"\"Return coordinations after 'n' random block walk. \"\"\"\n",
    "    x,y = 0,0\n",
    "    for i in range(n):\n",
    "        (dx,dy) = random.choice([(1,0),(-1,0),(0,1),(0,-1)])\n",
    "        x += dx\n",
    "        y += dy\n",
    "    \n",
    "    return (x,y)"
   ]
  },
  {
   "cell_type": "code",
   "execution_count": 6,
   "metadata": {},
   "outputs": [
    {
     "name": "stdout",
     "output_type": "stream",
     "text": [
      "(0, 0) Distance from home =  0\n",
      "(0, -2) Distance from home =  2\n",
      "(0, 0) Distance from home =  0\n",
      "(3, 1) Distance from home =  4\n",
      "(-1, -1) Distance from home =  2\n",
      "(-2, 2) Distance from home =  4\n",
      "(1, 1) Distance from home =  2\n",
      "(-5, 3) Distance from home =  8\n",
      "(-1, 1) Distance from home =  2\n",
      "(1, -1) Distance from home =  2\n",
      "(1, -1) Distance from home =  2\n",
      "(4, 0) Distance from home =  4\n",
      "(3, -1) Distance from home =  4\n",
      "(-5, 1) Distance from home =  6\n",
      "(-1, -1) Distance from home =  2\n",
      "(-1, 1) Distance from home =  2\n",
      "(0, 0) Distance from home =  0\n",
      "(2, -2) Distance from home =  4\n",
      "(2, 0) Distance from home =  2\n",
      "(-1, -1) Distance from home =  2\n"
     ]
    }
   ],
   "source": [
    "# Iteration 20\n",
    "for i in range(20):\n",
    "    walk = random_walk2(10)\n",
    "    print(walk, \"Distance from home = \",\n",
    "         abs(walk[0]) + abs(walk[1])\n",
    "         )"
   ]
  },
  {
   "cell_type": "code",
   "execution_count": 10,
   "metadata": {},
   "outputs": [
    {
     "name": "stdout",
     "output_type": "stream",
     "text": [
      "Walk iteration =  1 /Percentage of no_transport 100.0\n",
      "Walk iteration =  2 /Percentage of no_transport 100.0\n",
      "Walk iteration =  3 /Percentage of no_transport 100.0\n",
      "Walk iteration =  4 /Percentage of no_transport 100.0\n",
      "Walk iteration =  5 /Percentage of no_transport 87.68\n",
      "Walk iteration =  6 /Percentage of no_transport 93.81\n",
      "Walk iteration =  7 /Percentage of no_transport 76.48\n",
      "Walk iteration =  8 /Percentage of no_transport 86.66\n",
      "Walk iteration =  9 /Percentage of no_transport 66.94\n",
      "Walk iteration =  10 /Percentage of no_transport 80.01\n",
      "Walk iteration =  11 /Percentage of no_transport 59.78\n",
      "Walk iteration =  12 /Percentage of no_transport 72.44\n",
      "Walk iteration =  13 /Percentage of no_transport 53.63\n",
      "Walk iteration =  14 /Percentage of no_transport 66.39\n",
      "Walk iteration =  15 /Percentage of no_transport 48.85\n",
      "Walk iteration =  16 /Percentage of no_transport 62.8\n",
      "Walk iteration =  17 /Percentage of no_transport 44.42\n",
      "Walk iteration =  18 /Percentage of no_transport 57.03\n",
      "Walk iteration =  19 /Percentage of no_transport 41.72\n",
      "Walk iteration =  20 /Percentage of no_transport 53.959999999999994\n",
      "Walk iteration =  21 /Percentage of no_transport 37.39\n",
      "Walk iteration =  22 /Percentage of no_transport 51.019999999999996\n",
      "Walk iteration =  23 /Percentage of no_transport 35.39\n",
      "Walk iteration =  24 /Percentage of no_transport 48.18\n",
      "Walk iteration =  25 /Percentage of no_transport 32.34\n",
      "Walk iteration =  26 /Percentage of no_transport 45.019999999999996\n",
      "Walk iteration =  27 /Percentage of no_transport 32.01\n",
      "Walk iteration =  28 /Percentage of no_transport 43.37\n",
      "Walk iteration =  29 /Percentage of no_transport 29.15\n",
      "Walk iteration =  30 /Percentage of no_transport 40.75\n"
     ]
    }
   ],
   "source": [
    "# monte carlo solution\n",
    "\n",
    "numbers_of_walk = 10000\n",
    "for walk_length in range(1,31):\n",
    "    no_transport = 0 # Number of walks 4 or fewer block from home\n",
    "    for i in range(numbers_of_walk):\n",
    "        (x, y) = random_walk2(walk_length)\n",
    "        distance = abs(x) + abs(y)\n",
    "        if distance <= 4:\n",
    "            no_transport += 1\n",
    "    no_transport_percentage = float(no_transport) / numbers_of_walk\n",
    "    print(\"Walk iteration = \", walk_length,\"/ % Percentage of no_transport\", 100*no_transport_percentage)\n",
    "        \n",
    "    \n"
   ]
  },
  {
   "cell_type": "code",
   "execution_count": null,
   "metadata": {},
   "outputs": [],
   "source": []
  }
 ],
 "metadata": {
  "kernelspec": {
   "display_name": "Python 3",
   "language": "python",
   "name": "python3"
  },
  "language_info": {
   "codemirror_mode": {
    "name": "ipython",
    "version": 3
   },
   "file_extension": ".py",
   "mimetype": "text/x-python",
   "name": "python",
   "nbconvert_exporter": "python",
   "pygments_lexer": "ipython3",
   "version": "3.7.3"
  }
 },
 "nbformat": 4,
 "nbformat_minor": 2
}
